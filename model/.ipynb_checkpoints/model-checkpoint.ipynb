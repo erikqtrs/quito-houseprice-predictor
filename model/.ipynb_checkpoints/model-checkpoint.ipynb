{
 "cells": [
  {
   "cell_type": "markdown",
   "metadata": {},
   "source": [
    "# **Quito Housing Price Predictor**"
   ]
  },
  {
   "cell_type": "markdown",
   "metadata": {},
   "source": [
    "## **About Data**\n",
    "\n",
    "The dataset contains more than 4900 rown and 7 columns, each row represents information about house like, location, lot area, house area, number of bedrroms and bathrooms, parking spaces, etc.\n",
    "\n",
    "The information was collected from plusvalia.com through web scraping technique, and the was cleaned, dropping missin values, outliers, creating new columns and changing datatypes"
   ]
  },
  {
   "cell_type": "markdown",
   "metadata": {},
   "source": [
    "## Data Description\n",
    "\n",
    "<table>\n",
    "    <thead>\n",
    "        <tr>\n",
    "            <td>Column</td>\n",
    "            <td>Description</td>\n",
    "            <td>Datatype</td>\n",
    "        </tr>\n",
    "    </thead>\n",
    "    <tbody>\n",
    "        <tr>\n",
    "            <td>Location</td>\n",
    "            <td>Neighborhood of the house</td>\n",
    "            <td>Object</td>\n",
    "        </tr>\n",
    "        <tr>\n",
    "            <td>landsize</td>\n",
    "            <td>the size of all land or lot in squared meters</td>\n",
    "            <td>Integer</td>\n",
    "        </tr>\n",
    "        <tr>\n",
    "            <td>housesize</td>\n",
    "            <td>The size of the house or built surface in squared meters</td>\n",
    "            <td>Integer</td>\n",
    "        </tr>\n",
    "        <tr>\n",
    "            <td>bedrrom</td>\n",
    "            <td>Number of the bedrooms in the house</td>\n",
    "            <td>Integer</td>\n",
    "        </tr>\n",
    "        <tr>\n",
    "            <td>bathroom</td>\n",
    "            <td>Number of bathrroms in the house</td>\n",
    "            <td>Integer</td>\n",
    "        </tr>\n",
    "        <tr>\n",
    "            <td>parkinglot</td>\n",
    "            <td>Number of parking lot</td>\n",
    "            <td>Integer</td>\n",
    "        </tr>\n",
    "        <tr>\n",
    "            <td>price</td>\n",
    "            <td>The price of the house in dollars</td>\n",
    "            <td>Integer</td>\n",
    "        </tr>\n",
    "    </tbody>\n",
    "</table>"
   ]
  },
  {
   "cell_type": "markdown",
   "metadata": {},
   "source": [
    "### Import"
   ]
  },
  {
   "cell_type": "code",
   "execution_count": 1,
   "metadata": {},
   "outputs": [],
   "source": [
    "import numpy as np\n",
    "import pandas as pd\n",
    "import matplotlib.pyplot as plt\n",
    "import seaborn as sns"
   ]
  },
  {
   "cell_type": "code",
   "execution_count": 2,
   "metadata": {},
   "outputs": [],
   "source": [
    "houses = pd.read_csv('../data/clean_data.csv')"
   ]
  },
  {
   "cell_type": "markdown",
   "metadata": {},
   "source": [
    "### **Preprocessing Data and EDA**"
   ]
  },
  {
   "cell_type": "code",
   "execution_count": 3,
   "metadata": {},
   "outputs": [
    {
     "data": {
      "text/html": [
       "<div>\n",
       "<style scoped>\n",
       "    .dataframe tbody tr th:only-of-type {\n",
       "        vertical-align: middle;\n",
       "    }\n",
       "\n",
       "    .dataframe tbody tr th {\n",
       "        vertical-align: top;\n",
       "    }\n",
       "\n",
       "    .dataframe thead th {\n",
       "        text-align: right;\n",
       "    }\n",
       "</style>\n",
       "<table border=\"1\" class=\"dataframe\">\n",
       "  <thead>\n",
       "    <tr style=\"text-align: right;\">\n",
       "      <th></th>\n",
       "      <th>location</th>\n",
       "      <th>lotArea</th>\n",
       "      <th>houseArea</th>\n",
       "      <th>bedroom</th>\n",
       "      <th>bathroom</th>\n",
       "      <th>parkingSpaces</th>\n",
       "      <th>price</th>\n",
       "    </tr>\n",
       "  </thead>\n",
       "  <tbody>\n",
       "    <tr>\n",
       "      <th>0</th>\n",
       "      <td>La Armenia</td>\n",
       "      <td>214</td>\n",
       "      <td>214</td>\n",
       "      <td>3</td>\n",
       "      <td>2</td>\n",
       "      <td>2</td>\n",
       "      <td>125000</td>\n",
       "    </tr>\n",
       "    <tr>\n",
       "      <th>1</th>\n",
       "      <td>Tumbaco</td>\n",
       "      <td>148</td>\n",
       "      <td>104</td>\n",
       "      <td>3</td>\n",
       "      <td>2</td>\n",
       "      <td>1</td>\n",
       "      <td>97000</td>\n",
       "    </tr>\n",
       "    <tr>\n",
       "      <th>2</th>\n",
       "      <td>Tumbaco</td>\n",
       "      <td>600</td>\n",
       "      <td>320</td>\n",
       "      <td>3</td>\n",
       "      <td>3</td>\n",
       "      <td>2</td>\n",
       "      <td>450000</td>\n",
       "    </tr>\n",
       "    <tr>\n",
       "      <th>3</th>\n",
       "      <td>Ponceano</td>\n",
       "      <td>147</td>\n",
       "      <td>147</td>\n",
       "      <td>3</td>\n",
       "      <td>2</td>\n",
       "      <td>2</td>\n",
       "      <td>100000</td>\n",
       "    </tr>\n",
       "    <tr>\n",
       "      <th>4</th>\n",
       "      <td>Carcelén</td>\n",
       "      <td>183</td>\n",
       "      <td>163</td>\n",
       "      <td>3</td>\n",
       "      <td>2</td>\n",
       "      <td>2</td>\n",
       "      <td>128000</td>\n",
       "    </tr>\n",
       "  </tbody>\n",
       "</table>\n",
       "</div>"
      ],
      "text/plain": [
       "     location  lotArea  houseArea  bedroom  bathroom  parkingSpaces   price\n",
       "0  La Armenia      214        214        3         2              2  125000\n",
       "1     Tumbaco      148        104        3         2              1   97000\n",
       "2     Tumbaco      600        320        3         3              2  450000\n",
       "3    Ponceano      147        147        3         2              2  100000\n",
       "4    Carcelén      183        163        3         2              2  128000"
      ]
     },
     "execution_count": 3,
     "metadata": {},
     "output_type": "execute_result"
    }
   ],
   "source": [
    "houses.head()"
   ]
  },
  {
   "cell_type": "markdown",
   "metadata": {},
   "source": [
    "**Let's review some descriptive statistics**"
   ]
  },
  {
   "cell_type": "code",
   "execution_count": 4,
   "metadata": {},
   "outputs": [
    {
     "data": {
      "text/html": [
       "<div>\n",
       "<style scoped>\n",
       "    .dataframe tbody tr th:only-of-type {\n",
       "        vertical-align: middle;\n",
       "    }\n",
       "\n",
       "    .dataframe tbody tr th {\n",
       "        vertical-align: top;\n",
       "    }\n",
       "\n",
       "    .dataframe thead th {\n",
       "        text-align: right;\n",
       "    }\n",
       "</style>\n",
       "<table border=\"1\" class=\"dataframe\">\n",
       "  <thead>\n",
       "    <tr style=\"text-align: right;\">\n",
       "      <th></th>\n",
       "      <th>lotArea</th>\n",
       "      <th>houseArea</th>\n",
       "      <th>bedroom</th>\n",
       "      <th>bathroom</th>\n",
       "      <th>parkingSpaces</th>\n",
       "      <th>price</th>\n",
       "    </tr>\n",
       "  </thead>\n",
       "  <tbody>\n",
       "    <tr>\n",
       "      <th>count</th>\n",
       "      <td>4935.000000</td>\n",
       "      <td>4935.000000</td>\n",
       "      <td>4935.000000</td>\n",
       "      <td>4935.000000</td>\n",
       "      <td>4935.000000</td>\n",
       "      <td>4935.000000</td>\n",
       "    </tr>\n",
       "    <tr>\n",
       "      <th>mean</th>\n",
       "      <td>317.847619</td>\n",
       "      <td>238.443972</td>\n",
       "      <td>3.423303</td>\n",
       "      <td>2.730902</td>\n",
       "      <td>2.330699</td>\n",
       "      <td>216343.927254</td>\n",
       "    </tr>\n",
       "    <tr>\n",
       "      <th>std</th>\n",
       "      <td>210.827452</td>\n",
       "      <td>130.273499</td>\n",
       "      <td>0.673296</td>\n",
       "      <td>0.980416</td>\n",
       "      <td>1.138405</td>\n",
       "      <td>140573.129783</td>\n",
       "    </tr>\n",
       "    <tr>\n",
       "      <th>min</th>\n",
       "      <td>30.000000</td>\n",
       "      <td>9.000000</td>\n",
       "      <td>2.000000</td>\n",
       "      <td>1.000000</td>\n",
       "      <td>1.000000</td>\n",
       "      <td>1.000000</td>\n",
       "    </tr>\n",
       "    <tr>\n",
       "      <th>25%</th>\n",
       "      <td>167.000000</td>\n",
       "      <td>140.000000</td>\n",
       "      <td>3.000000</td>\n",
       "      <td>2.000000</td>\n",
       "      <td>2.000000</td>\n",
       "      <td>112500.000000</td>\n",
       "    </tr>\n",
       "    <tr>\n",
       "      <th>50%</th>\n",
       "      <td>250.000000</td>\n",
       "      <td>200.000000</td>\n",
       "      <td>3.000000</td>\n",
       "      <td>3.000000</td>\n",
       "      <td>2.000000</td>\n",
       "      <td>175000.000000</td>\n",
       "    </tr>\n",
       "    <tr>\n",
       "      <th>75%</th>\n",
       "      <td>406.500000</td>\n",
       "      <td>305.000000</td>\n",
       "      <td>4.000000</td>\n",
       "      <td>3.000000</td>\n",
       "      <td>3.000000</td>\n",
       "      <td>285000.000000</td>\n",
       "    </tr>\n",
       "    <tr>\n",
       "      <th>max</th>\n",
       "      <td>1162.000000</td>\n",
       "      <td>794.000000</td>\n",
       "      <td>5.000000</td>\n",
       "      <td>7.000000</td>\n",
       "      <td>7.000000</td>\n",
       "      <td>720000.000000</td>\n",
       "    </tr>\n",
       "  </tbody>\n",
       "</table>\n",
       "</div>"
      ],
      "text/plain": [
       "           lotArea    houseArea      bedroom     bathroom  parkingSpaces  \\\n",
       "count  4935.000000  4935.000000  4935.000000  4935.000000    4935.000000   \n",
       "mean    317.847619   238.443972     3.423303     2.730902       2.330699   \n",
       "std     210.827452   130.273499     0.673296     0.980416       1.138405   \n",
       "min      30.000000     9.000000     2.000000     1.000000       1.000000   \n",
       "25%     167.000000   140.000000     3.000000     2.000000       2.000000   \n",
       "50%     250.000000   200.000000     3.000000     3.000000       2.000000   \n",
       "75%     406.500000   305.000000     4.000000     3.000000       3.000000   \n",
       "max    1162.000000   794.000000     5.000000     7.000000       7.000000   \n",
       "\n",
       "               price  \n",
       "count    4935.000000  \n",
       "mean   216343.927254  \n",
       "std    140573.129783  \n",
       "min         1.000000  \n",
       "25%    112500.000000  \n",
       "50%    175000.000000  \n",
       "75%    285000.000000  \n",
       "max    720000.000000  "
      ]
     },
     "execution_count": 4,
     "metadata": {},
     "output_type": "execute_result"
    }
   ],
   "source": [
    "houses.describe()"
   ]
  },
  {
   "cell_type": "markdown",
   "metadata": {},
   "source": [
    "**Let's review the unique values for location**"
   ]
  },
  {
   "cell_type": "code",
   "execution_count": 5,
   "metadata": {},
   "outputs": [
    {
     "data": {
      "text/html": [
       "<div>\n",
       "<style scoped>\n",
       "    .dataframe tbody tr th:only-of-type {\n",
       "        vertical-align: middle;\n",
       "    }\n",
       "\n",
       "    .dataframe tbody tr th {\n",
       "        vertical-align: top;\n",
       "    }\n",
       "\n",
       "    .dataframe thead th {\n",
       "        text-align: right;\n",
       "    }\n",
       "</style>\n",
       "<table border=\"1\" class=\"dataframe\">\n",
       "  <thead>\n",
       "    <tr style=\"text-align: right;\">\n",
       "      <th></th>\n",
       "      <th>Location</th>\n",
       "    </tr>\n",
       "  </thead>\n",
       "  <tbody>\n",
       "    <tr>\n",
       "      <th>0</th>\n",
       "      <td>La Armenia</td>\n",
       "    </tr>\n",
       "    <tr>\n",
       "      <th>1</th>\n",
       "      <td>Tumbaco</td>\n",
       "    </tr>\n",
       "    <tr>\n",
       "      <th>2</th>\n",
       "      <td>Ponceano</td>\n",
       "    </tr>\n",
       "    <tr>\n",
       "      <th>3</th>\n",
       "      <td>Carcelén</td>\n",
       "    </tr>\n",
       "    <tr>\n",
       "      <th>4</th>\n",
       "      <td>Los Chillos</td>\n",
       "    </tr>\n",
       "    <tr>\n",
       "      <th>5</th>\n",
       "      <td>Norte de Quito</td>\n",
       "    </tr>\n",
       "    <tr>\n",
       "      <th>6</th>\n",
       "      <td>Cumbayá</td>\n",
       "    </tr>\n",
       "    <tr>\n",
       "      <th>7</th>\n",
       "      <td>Conocoto</td>\n",
       "    </tr>\n",
       "    <tr>\n",
       "      <th>8</th>\n",
       "      <td>Nayón - Tanda</td>\n",
       "    </tr>\n",
       "    <tr>\n",
       "      <th>9</th>\n",
       "      <td>Quito</td>\n",
       "    </tr>\n",
       "    <tr>\n",
       "      <th>10</th>\n",
       "      <td>El Pinar</td>\n",
       "    </tr>\n",
       "    <tr>\n",
       "      <th>11</th>\n",
       "      <td>La Concepción</td>\n",
       "    </tr>\n",
       "    <tr>\n",
       "      <th>12</th>\n",
       "      <td>Mitad del Mundo</td>\n",
       "    </tr>\n",
       "    <tr>\n",
       "      <th>13</th>\n",
       "      <td>Centro Norte</td>\n",
       "    </tr>\n",
       "    <tr>\n",
       "      <th>14</th>\n",
       "      <td>Amagasí</td>\n",
       "    </tr>\n",
       "    <tr>\n",
       "      <th>15</th>\n",
       "      <td>San Isidro - Vista Grande</td>\n",
       "    </tr>\n",
       "    <tr>\n",
       "      <th>16</th>\n",
       "      <td>Calderón</td>\n",
       "    </tr>\n",
       "    <tr>\n",
       "      <th>17</th>\n",
       "      <td>El Inca</td>\n",
       "    </tr>\n",
       "    <tr>\n",
       "      <th>18</th>\n",
       "      <td>Sangolqui</td>\n",
       "    </tr>\n",
       "    <tr>\n",
       "      <th>19</th>\n",
       "      <td>Sur de Quito</td>\n",
       "    </tr>\n",
       "    <tr>\n",
       "      <th>20</th>\n",
       "      <td>El Bosque</td>\n",
       "    </tr>\n",
       "    <tr>\n",
       "      <th>21</th>\n",
       "      <td>San Rafael</td>\n",
       "    </tr>\n",
       "    <tr>\n",
       "      <th>22</th>\n",
       "      <td>Alangasí</td>\n",
       "    </tr>\n",
       "    <tr>\n",
       "      <th>23</th>\n",
       "      <td>Pomasqui</td>\n",
       "    </tr>\n",
       "    <tr>\n",
       "      <th>24</th>\n",
       "      <td>Miravalle</td>\n",
       "    </tr>\n",
       "    <tr>\n",
       "      <th>25</th>\n",
       "      <td>Monjas</td>\n",
       "    </tr>\n",
       "    <tr>\n",
       "      <th>26</th>\n",
       "      <td>Lumbisí</td>\n",
       "    </tr>\n",
       "    <tr>\n",
       "      <th>27</th>\n",
       "      <td>El Condado</td>\n",
       "    </tr>\n",
       "    <tr>\n",
       "      <th>28</th>\n",
       "      <td>San Gabriel</td>\n",
       "    </tr>\n",
       "    <tr>\n",
       "      <th>29</th>\n",
       "      <td>Puembo</td>\n",
       "    </tr>\n",
       "    <tr>\n",
       "      <th>30</th>\n",
       "      <td>Bellavista</td>\n",
       "    </tr>\n",
       "    <tr>\n",
       "      <th>31</th>\n",
       "      <td>Monteserrín</td>\n",
       "    </tr>\n",
       "    <tr>\n",
       "      <th>32</th>\n",
       "      <td>Quito Tenis</td>\n",
       "    </tr>\n",
       "    <tr>\n",
       "      <th>33</th>\n",
       "      <td>Carapungo</td>\n",
       "    </tr>\n",
       "    <tr>\n",
       "      <th>34</th>\n",
       "      <td>Quitumbe</td>\n",
       "    </tr>\n",
       "    <tr>\n",
       "      <th>35</th>\n",
       "      <td>San Carlos</td>\n",
       "    </tr>\n",
       "    <tr>\n",
       "      <th>36</th>\n",
       "      <td>Yaruqui</td>\n",
       "    </tr>\n",
       "    <tr>\n",
       "      <th>37</th>\n",
       "      <td>El Batán</td>\n",
       "    </tr>\n",
       "    <tr>\n",
       "      <th>38</th>\n",
       "      <td>Las Casas</td>\n",
       "    </tr>\n",
       "    <tr>\n",
       "      <th>39</th>\n",
       "      <td>Centro de Quito</td>\n",
       "    </tr>\n",
       "    <tr>\n",
       "      <th>40</th>\n",
       "      <td>Llano Grande</td>\n",
       "    </tr>\n",
       "    <tr>\n",
       "      <th>41</th>\n",
       "      <td>Granda Centeno</td>\n",
       "    </tr>\n",
       "    <tr>\n",
       "      <th>42</th>\n",
       "      <td>La Carolina</td>\n",
       "    </tr>\n",
       "  </tbody>\n",
       "</table>\n",
       "</div>"
      ],
      "text/plain": [
       "                     Location\n",
       "0                  La Armenia\n",
       "1                     Tumbaco\n",
       "2                    Ponceano\n",
       "3                    Carcelén\n",
       "4                 Los Chillos\n",
       "5              Norte de Quito\n",
       "6                     Cumbayá\n",
       "7                    Conocoto\n",
       "8               Nayón - Tanda\n",
       "9                       Quito\n",
       "10                   El Pinar\n",
       "11              La Concepción\n",
       "12            Mitad del Mundo\n",
       "13               Centro Norte\n",
       "14                    Amagasí\n",
       "15  San Isidro - Vista Grande\n",
       "16                   Calderón\n",
       "17                    El Inca\n",
       "18                  Sangolqui\n",
       "19               Sur de Quito\n",
       "20                  El Bosque\n",
       "21                 San Rafael\n",
       "22                   Alangasí\n",
       "23                   Pomasqui\n",
       "24                  Miravalle\n",
       "25                     Monjas\n",
       "26                    Lumbisí\n",
       "27                 El Condado\n",
       "28                San Gabriel\n",
       "29                     Puembo\n",
       "30                 Bellavista\n",
       "31                Monteserrín\n",
       "32                Quito Tenis\n",
       "33                  Carapungo\n",
       "34                   Quitumbe\n",
       "35                 San Carlos\n",
       "36                    Yaruqui\n",
       "37                   El Batán\n",
       "38                  Las Casas\n",
       "39            Centro de Quito\n",
       "40               Llano Grande\n",
       "41             Granda Centeno\n",
       "42                La Carolina"
      ]
     },
     "execution_count": 5,
     "metadata": {},
     "output_type": "execute_result"
    }
   ],
   "source": [
    "locations = pd.DataFrame( {'Location': houses.location.unique() } )\n",
    "locations"
   ]
  },
  {
   "cell_type": "markdown",
   "metadata": {},
   "source": [
    "The are 42 neighborhood inside all dataset"
   ]
  },
  {
   "cell_type": "markdown",
   "metadata": {},
   "source": [
    "**Number of houses by neighborhood**"
   ]
  },
  {
   "cell_type": "code",
   "execution_count": 6,
   "metadata": {},
   "outputs": [
    {
     "data": {
      "text/html": [
       "<div>\n",
       "<style scoped>\n",
       "    .dataframe tbody tr th:only-of-type {\n",
       "        vertical-align: middle;\n",
       "    }\n",
       "\n",
       "    .dataframe tbody tr th {\n",
       "        vertical-align: top;\n",
       "    }\n",
       "\n",
       "    .dataframe thead th {\n",
       "        text-align: right;\n",
       "    }\n",
       "</style>\n",
       "<table border=\"1\" class=\"dataframe\">\n",
       "  <thead>\n",
       "    <tr style=\"text-align: right;\">\n",
       "      <th></th>\n",
       "      <th>Location</th>\n",
       "      <th>NumIfHouses</th>\n",
       "    </tr>\n",
       "  </thead>\n",
       "  <tbody>\n",
       "    <tr>\n",
       "      <th>0</th>\n",
       "      <td>Cumbayá</td>\n",
       "      <td>753</td>\n",
       "    </tr>\n",
       "    <tr>\n",
       "      <th>1</th>\n",
       "      <td>Tumbaco</td>\n",
       "      <td>509</td>\n",
       "    </tr>\n",
       "    <tr>\n",
       "      <th>2</th>\n",
       "      <td>Norte de Quito</td>\n",
       "      <td>479</td>\n",
       "    </tr>\n",
       "    <tr>\n",
       "      <th>3</th>\n",
       "      <td>Los Chillos</td>\n",
       "      <td>415</td>\n",
       "    </tr>\n",
       "    <tr>\n",
       "      <th>4</th>\n",
       "      <td>Calderón</td>\n",
       "      <td>266</td>\n",
       "    </tr>\n",
       "    <tr>\n",
       "      <th>5</th>\n",
       "      <td>Conocoto</td>\n",
       "      <td>250</td>\n",
       "    </tr>\n",
       "    <tr>\n",
       "      <th>6</th>\n",
       "      <td>Centro Norte</td>\n",
       "      <td>199</td>\n",
       "    </tr>\n",
       "    <tr>\n",
       "      <th>7</th>\n",
       "      <td>Carcelén</td>\n",
       "      <td>189</td>\n",
       "    </tr>\n",
       "    <tr>\n",
       "      <th>8</th>\n",
       "      <td>Sangolqui</td>\n",
       "      <td>188</td>\n",
       "    </tr>\n",
       "    <tr>\n",
       "      <th>9</th>\n",
       "      <td>La Armenia</td>\n",
       "      <td>152</td>\n",
       "    </tr>\n",
       "    <tr>\n",
       "      <th>10</th>\n",
       "      <td>Mitad del Mundo</td>\n",
       "      <td>143</td>\n",
       "    </tr>\n",
       "    <tr>\n",
       "      <th>11</th>\n",
       "      <td>Sur de Quito</td>\n",
       "      <td>129</td>\n",
       "    </tr>\n",
       "    <tr>\n",
       "      <th>12</th>\n",
       "      <td>El Condado</td>\n",
       "      <td>126</td>\n",
       "    </tr>\n",
       "    <tr>\n",
       "      <th>13</th>\n",
       "      <td>Nayón - Tanda</td>\n",
       "      <td>107</td>\n",
       "    </tr>\n",
       "    <tr>\n",
       "      <th>14</th>\n",
       "      <td>San Rafael</td>\n",
       "      <td>94</td>\n",
       "    </tr>\n",
       "    <tr>\n",
       "      <th>15</th>\n",
       "      <td>Ponceano</td>\n",
       "      <td>94</td>\n",
       "    </tr>\n",
       "    <tr>\n",
       "      <th>16</th>\n",
       "      <td>Pomasqui</td>\n",
       "      <td>91</td>\n",
       "    </tr>\n",
       "    <tr>\n",
       "      <th>17</th>\n",
       "      <td>El Pinar</td>\n",
       "      <td>71</td>\n",
       "    </tr>\n",
       "    <tr>\n",
       "      <th>18</th>\n",
       "      <td>El Inca</td>\n",
       "      <td>69</td>\n",
       "    </tr>\n",
       "    <tr>\n",
       "      <th>19</th>\n",
       "      <td>Amagasí</td>\n",
       "      <td>61</td>\n",
       "    </tr>\n",
       "    <tr>\n",
       "      <th>20</th>\n",
       "      <td>Miravalle</td>\n",
       "      <td>52</td>\n",
       "    </tr>\n",
       "    <tr>\n",
       "      <th>21</th>\n",
       "      <td>El Bosque</td>\n",
       "      <td>50</td>\n",
       "    </tr>\n",
       "    <tr>\n",
       "      <th>22</th>\n",
       "      <td>Quito Tenis</td>\n",
       "      <td>41</td>\n",
       "    </tr>\n",
       "    <tr>\n",
       "      <th>23</th>\n",
       "      <td>Puembo</td>\n",
       "      <td>40</td>\n",
       "    </tr>\n",
       "    <tr>\n",
       "      <th>24</th>\n",
       "      <td>Monteserrín</td>\n",
       "      <td>38</td>\n",
       "    </tr>\n",
       "    <tr>\n",
       "      <th>25</th>\n",
       "      <td>El Batán</td>\n",
       "      <td>33</td>\n",
       "    </tr>\n",
       "    <tr>\n",
       "      <th>26</th>\n",
       "      <td>San Carlos</td>\n",
       "      <td>27</td>\n",
       "    </tr>\n",
       "    <tr>\n",
       "      <th>27</th>\n",
       "      <td>Quitumbe</td>\n",
       "      <td>25</td>\n",
       "    </tr>\n",
       "    <tr>\n",
       "      <th>28</th>\n",
       "      <td>Lumbisí</td>\n",
       "      <td>24</td>\n",
       "    </tr>\n",
       "    <tr>\n",
       "      <th>29</th>\n",
       "      <td>Llano Grande</td>\n",
       "      <td>23</td>\n",
       "    </tr>\n",
       "    <tr>\n",
       "      <th>30</th>\n",
       "      <td>Carapungo</td>\n",
       "      <td>23</td>\n",
       "    </tr>\n",
       "    <tr>\n",
       "      <th>31</th>\n",
       "      <td>Centro de Quito</td>\n",
       "      <td>19</td>\n",
       "    </tr>\n",
       "    <tr>\n",
       "      <th>32</th>\n",
       "      <td>San Isidro - Vista Grande</td>\n",
       "      <td>18</td>\n",
       "    </tr>\n",
       "    <tr>\n",
       "      <th>33</th>\n",
       "      <td>Quito</td>\n",
       "      <td>18</td>\n",
       "    </tr>\n",
       "    <tr>\n",
       "      <th>34</th>\n",
       "      <td>Bellavista</td>\n",
       "      <td>16</td>\n",
       "    </tr>\n",
       "    <tr>\n",
       "      <th>35</th>\n",
       "      <td>Yaruqui</td>\n",
       "      <td>15</td>\n",
       "    </tr>\n",
       "    <tr>\n",
       "      <th>36</th>\n",
       "      <td>Alangasí</td>\n",
       "      <td>14</td>\n",
       "    </tr>\n",
       "    <tr>\n",
       "      <th>37</th>\n",
       "      <td>La Concepción</td>\n",
       "      <td>14</td>\n",
       "    </tr>\n",
       "    <tr>\n",
       "      <th>38</th>\n",
       "      <td>Granda Centeno</td>\n",
       "      <td>14</td>\n",
       "    </tr>\n",
       "    <tr>\n",
       "      <th>39</th>\n",
       "      <td>San Gabriel</td>\n",
       "      <td>12</td>\n",
       "    </tr>\n",
       "    <tr>\n",
       "      <th>40</th>\n",
       "      <td>La Carolina</td>\n",
       "      <td>12</td>\n",
       "    </tr>\n",
       "    <tr>\n",
       "      <th>41</th>\n",
       "      <td>Monjas</td>\n",
       "      <td>11</td>\n",
       "    </tr>\n",
       "    <tr>\n",
       "      <th>42</th>\n",
       "      <td>Las Casas</td>\n",
       "      <td>11</td>\n",
       "    </tr>\n",
       "  </tbody>\n",
       "</table>\n",
       "</div>"
      ],
      "text/plain": [
       "                     Location  NumIfHouses\n",
       "0                     Cumbayá          753\n",
       "1                     Tumbaco          509\n",
       "2              Norte de Quito          479\n",
       "3                 Los Chillos          415\n",
       "4                    Calderón          266\n",
       "5                    Conocoto          250\n",
       "6                Centro Norte          199\n",
       "7                    Carcelén          189\n",
       "8                   Sangolqui          188\n",
       "9                  La Armenia          152\n",
       "10            Mitad del Mundo          143\n",
       "11               Sur de Quito          129\n",
       "12                 El Condado          126\n",
       "13              Nayón - Tanda          107\n",
       "14                 San Rafael           94\n",
       "15                   Ponceano           94\n",
       "16                   Pomasqui           91\n",
       "17                   El Pinar           71\n",
       "18                    El Inca           69\n",
       "19                    Amagasí           61\n",
       "20                  Miravalle           52\n",
       "21                  El Bosque           50\n",
       "22                Quito Tenis           41\n",
       "23                     Puembo           40\n",
       "24                Monteserrín           38\n",
       "25                   El Batán           33\n",
       "26                 San Carlos           27\n",
       "27                   Quitumbe           25\n",
       "28                    Lumbisí           24\n",
       "29               Llano Grande           23\n",
       "30                  Carapungo           23\n",
       "31            Centro de Quito           19\n",
       "32  San Isidro - Vista Grande           18\n",
       "33                      Quito           18\n",
       "34                 Bellavista           16\n",
       "35                    Yaruqui           15\n",
       "36                   Alangasí           14\n",
       "37              La Concepción           14\n",
       "38             Granda Centeno           14\n",
       "39                San Gabriel           12\n",
       "40                La Carolina           12\n",
       "41                     Monjas           11\n",
       "42                  Las Casas           11"
      ]
     },
     "execution_count": 6,
     "metadata": {},
     "output_type": "execute_result"
    }
   ],
   "source": [
    "num_of_houses = pd.DataFrame(  {'Location': houses.location.value_counts().keys(),\n",
    "'NumIfHouses': houses.location.value_counts().values } )\n",
    "num_of_houses"
   ]
  },
  {
   "cell_type": "code",
   "execution_count": 7,
   "metadata": {},
   "outputs": [
    {
     "data": {
      "image/png": "[encoded data removed]",
      "text/plain": [
       "<Figure size 2160x600 with 1 Axes>"
      ]
     },
     "metadata": {
      "needs_background": "light"
     },
     "output_type": "display_data"
    }
   ],
   "source": [
    "plt.figure(figsize=(18, 5), dpi=120)\n",
    "sns.barplot(x='Location', y='NumIfHouses', data=num_of_houses)\n",
    "plt.xticks(rotation=90)\n",
    "plt.title('Number of Houses by Neighborhood')\n",
    "plt.show()"
   ]
  },
  {
   "cell_type": "markdown",
   "metadata": {},
   "source": [
    "Cumbaya has the most number of houses into the dataset, following of Tumbaco, Los Chillos and Norte de Quito"
   ]
  },
  {
   "cell_type": "markdown",
   "metadata": {},
   "source": [
    "**Let's view where are the more expensive houses**"
   ]
  },
  {
   "cell_type": "code",
   "execution_count": 8,
   "metadata": {},
   "outputs": [
    {
     "data": {
      "text/html": [
       "<div>\n",
       "<style scoped>\n",
       "    .dataframe tbody tr th:only-of-type {\n",
       "        vertical-align: middle;\n",
       "    }\n",
       "\n",
       "    .dataframe tbody tr th {\n",
       "        vertical-align: top;\n",
       "    }\n",
       "\n",
       "    .dataframe thead th {\n",
       "        text-align: right;\n",
       "    }\n",
       "</style>\n",
       "<table border=\"1\" class=\"dataframe\">\n",
       "  <thead>\n",
       "    <tr style=\"text-align: right;\">\n",
       "      <th></th>\n",
       "      <th>location</th>\n",
       "      <th>price</th>\n",
       "    </tr>\n",
       "  </thead>\n",
       "  <tbody>\n",
       "    <tr>\n",
       "      <th>23</th>\n",
       "      <td>Miravalle</td>\n",
       "      <td>468255.576923</td>\n",
       "    </tr>\n",
       "    <tr>\n",
       "      <th>31</th>\n",
       "      <td>Puembo</td>\n",
       "      <td>376700.000000</td>\n",
       "    </tr>\n",
       "    <tr>\n",
       "      <th>33</th>\n",
       "      <td>Quito Tenis</td>\n",
       "      <td>364826.829268</td>\n",
       "    </tr>\n",
       "    <tr>\n",
       "      <th>27</th>\n",
       "      <td>Nayón - Tanda</td>\n",
       "      <td>362706.532710</td>\n",
       "    </tr>\n",
       "    <tr>\n",
       "      <th>17</th>\n",
       "      <td>La Carolina</td>\n",
       "      <td>352414.166667</td>\n",
       "    </tr>\n",
       "    <tr>\n",
       "      <th>9</th>\n",
       "      <td>Cumbayá</td>\n",
       "      <td>349702.479416</td>\n",
       "    </tr>\n",
       "    <tr>\n",
       "      <th>26</th>\n",
       "      <td>Monteserrín</td>\n",
       "      <td>340630.921053</td>\n",
       "    </tr>\n",
       "    <tr>\n",
       "      <th>2</th>\n",
       "      <td>Bellavista</td>\n",
       "      <td>330375.000000</td>\n",
       "    </tr>\n",
       "    <tr>\n",
       "      <th>11</th>\n",
       "      <td>El Bosque</td>\n",
       "      <td>294856.480000</td>\n",
       "    </tr>\n",
       "    <tr>\n",
       "      <th>15</th>\n",
       "      <td>Granda Centeno</td>\n",
       "      <td>280142.857143</td>\n",
       "    </tr>\n",
       "  </tbody>\n",
       "</table>\n",
       "</div>"
      ],
      "text/plain": [
       "          location          price\n",
       "23       Miravalle  468255.576923\n",
       "31          Puembo  376700.000000\n",
       "33     Quito Tenis  364826.829268\n",
       "27   Nayón - Tanda  362706.532710\n",
       "17     La Carolina  352414.166667\n",
       "9          Cumbayá  349702.479416\n",
       "26     Monteserrín  340630.921053\n",
       "2       Bellavista  330375.000000\n",
       "11       El Bosque  294856.480000\n",
       "15  Granda Centeno  280142.857143"
      ]
     },
     "execution_count": 8,
     "metadata": {},
     "output_type": "execute_result"
    }
   ],
   "source": [
    "most_expensive_houses = houses.groupby('location', as_index=False)['price'].mean().sort_values('price',ascending=False)\n",
    "most_expensive_houses.head(10)"
   ]
  },
  {
   "cell_type": "code",
   "execution_count": 9,
   "metadata": {},
   "outputs": [
    {
     "data": {
      "image/png": "[encoded data removed]",
      "text/plain": [
       "<Figure size 2160x600 with 1 Axes>"
      ]
     },
     "metadata": {
      "needs_background": "light"
     },
     "output_type": "display_data"
    }
   ],
   "source": [
    "plt.figure(figsize=(18, 5), dpi=120)\n",
    "sns.barplot(x='location', y='price', data=most_expensive_houses )\n",
    "plt.xticks(rotation=90)\n",
    "plt.title('Average sale price of houses by neighborhood',\n",
    "fontsize=18, color='blue')\n",
    "plt.show()"
   ]
  },
  {
   "cell_type": "markdown",
   "metadata": {},
   "source": [
    "Here we can notice that Miravalle, Puembo, Quito Tenis, Nayon-Tanda although these locations don't have many houses into dataset they have the most expensive houses in Quito, and this makes sense, since this locations are considered like high capital gain neighborhoods in Quito"
   ]
  },
  {
   "cell_type": "markdown",
   "metadata": {},
   "source": [
    "**Let's see if the quantity of parking spaces impact in the sale price of a house**"
   ]
  },
  {
   "cell_type": "code",
   "execution_count": 10,
   "metadata": {},
   "outputs": [
    {
     "data": {
      "text/html": [
       "<div>\n",
       "<style scoped>\n",
       "    .dataframe tbody tr th:only-of-type {\n",
       "        vertical-align: middle;\n",
       "    }\n",
       "\n",
       "    .dataframe tbody tr th {\n",
       "        vertical-align: top;\n",
       "    }\n",
       "\n",
       "    .dataframe thead th {\n",
       "        text-align: right;\n",
       "    }\n",
       "</style>\n",
       "<table border=\"1\" class=\"dataframe\">\n",
       "  <thead>\n",
       "    <tr style=\"text-align: right;\">\n",
       "      <th></th>\n",
       "      <th>parkingSpaces</th>\n",
       "      <th>price</th>\n",
       "    </tr>\n",
       "  </thead>\n",
       "  <tbody>\n",
       "    <tr>\n",
       "      <th>6</th>\n",
       "      <td>7</td>\n",
       "      <td>390772.222222</td>\n",
       "    </tr>\n",
       "    <tr>\n",
       "      <th>3</th>\n",
       "      <td>4</td>\n",
       "      <td>363396.840000</td>\n",
       "    </tr>\n",
       "    <tr>\n",
       "      <th>5</th>\n",
       "      <td>6</td>\n",
       "      <td>355351.388235</td>\n",
       "    </tr>\n",
       "    <tr>\n",
       "      <th>4</th>\n",
       "      <td>5</td>\n",
       "      <td>306191.823529</td>\n",
       "    </tr>\n",
       "    <tr>\n",
       "      <th>2</th>\n",
       "      <td>3</td>\n",
       "      <td>284436.665710</td>\n",
       "    </tr>\n",
       "    <tr>\n",
       "      <th>1</th>\n",
       "      <td>2</td>\n",
       "      <td>199710.578087</td>\n",
       "    </tr>\n",
       "    <tr>\n",
       "      <th>0</th>\n",
       "      <td>1</td>\n",
       "      <td>101858.158524</td>\n",
       "    </tr>\n",
       "  </tbody>\n",
       "</table>\n",
       "</div>"
      ],
      "text/plain": [
       "   parkingSpaces          price\n",
       "6              7  390772.222222\n",
       "3              4  363396.840000\n",
       "5              6  355351.388235\n",
       "4              5  306191.823529\n",
       "2              3  284436.665710\n",
       "1              2  199710.578087\n",
       "0              1  101858.158524"
      ]
     },
     "execution_count": 10,
     "metadata": {},
     "output_type": "execute_result"
    }
   ],
   "source": [
    "price_by_parkinglot= houses.groupby('parkingSpaces', as_index=False)['price'].mean().sort_values('price',ascending=False)\n",
    "price_by_parkinglot"
   ]
  },
  {
   "cell_type": "code",
   "execution_count": 11,
   "metadata": {},
   "outputs": [
    {
     "data": {
      "image/png": "[encoded data removed]",
      "text/plain": [
       "<Figure size 1200x480 with 1 Axes>"
      ]
     },
     "metadata": {
      "needs_background": "light"
     },
     "output_type": "display_data"
    }
   ],
   "source": [
    "plt.figure(figsize=(10, 4), dpi=120)\n",
    "sns.barplot(x='parkingSpaces', y='price', data=price_by_parkinglot, estimator= np.mean )\n",
    "plt.title('Average sale price of houses by parking spaces',\n",
    "fontsize=18, color='black')\n",
    "plt.show()"
   ]
  },
  {
   "cell_type": "markdown",
   "metadata": {},
   "source": [
    "In the plot we can notice that between houses with 1, 2 and 3 parking spaces the number of these have an impact in the sale price of houses, nut we can see too that the houses with 4 parking spaces are more expensive than houses with 6 and 5 parking spaces, so I can say that the number of parking spaces has a medium impact in the sale prioce of houses"
   ]
  },
  {
   "cell_type": "markdown",
   "metadata": {},
   "source": [
    "**The number of bedrooms and bathrooms have impact in the price of the house=**"
   ]
  },
  {
   "cell_type": "code",
   "execution_count": 12,
   "metadata": {},
   "outputs": [
    {
     "data": {
      "text/html": [
       "<div>\n",
       "<style scoped>\n",
       "    .dataframe tbody tr th:only-of-type {\n",
       "        vertical-align: middle;\n",
       "    }\n",
       "\n",
       "    .dataframe tbody tr th {\n",
       "        vertical-align: top;\n",
       "    }\n",
       "\n",
       "    .dataframe thead th {\n",
       "        text-align: right;\n",
       "    }\n",
       "</style>\n",
       "<table border=\"1\" class=\"dataframe\">\n",
       "  <thead>\n",
       "    <tr style=\"text-align: right;\">\n",
       "      <th></th>\n",
       "      <th>bedroom</th>\n",
       "      <th>price</th>\n",
       "    </tr>\n",
       "  </thead>\n",
       "  <tbody>\n",
       "    <tr>\n",
       "      <th>3</th>\n",
       "      <td>5</td>\n",
       "      <td>284384.279683</td>\n",
       "    </tr>\n",
       "    <tr>\n",
       "      <th>2</th>\n",
       "      <td>4</td>\n",
       "      <td>258506.949591</td>\n",
       "    </tr>\n",
       "    <tr>\n",
       "      <th>1</th>\n",
       "      <td>3</td>\n",
       "      <td>190192.157574</td>\n",
       "    </tr>\n",
       "    <tr>\n",
       "      <th>0</th>\n",
       "      <td>2</td>\n",
       "      <td>139637.810219</td>\n",
       "    </tr>\n",
       "  </tbody>\n",
       "</table>\n",
       "</div>"
      ],
      "text/plain": [
       "   bedroom          price\n",
       "3        5  284384.279683\n",
       "2        4  258506.949591\n",
       "1        3  190192.157574\n",
       "0        2  139637.810219"
      ]
     },
     "execution_count": 12,
     "metadata": {},
     "output_type": "execute_result"
    }
   ],
   "source": [
    "price_by_bedrooms= houses.groupby('bedroom', as_index=False)['price'].mean().sort_values('price',ascending=False)\n",
    "price_by_bedrooms"
   ]
  },
  {
   "cell_type": "code",
   "execution_count": 13,
   "metadata": {},
   "outputs": [
    {
     "data": {
      "image/png": "[encoded data removed]",
      "text/plain": [
       "<Figure size 1200x480 with 1 Axes>"
      ]
     },
     "metadata": {
      "needs_background": "light"
     },
     "output_type": "display_data"
    }
   ],
   "source": [
    "plt.figure(figsize=(10, 4), dpi=120)\n",
    "sns.barplot(x='bedroom', y='price', data=price_by_bedrooms, estimator= np.mean )\n",
    "plt.title('Average sale price of houses by bedrooms',\n",
    "fontsize=18, color='black')\n",
    "plt.show()"
   ]
  },
  {
   "cell_type": "code",
   "execution_count": 14,
   "metadata": {},
   "outputs": [
    {
     "data": {
      "text/html": [
       "<div>\n",
       "<style scoped>\n",
       "    .dataframe tbody tr th:only-of-type {\n",
       "        vertical-align: middle;\n",
       "    }\n",
       "\n",
       "    .dataframe tbody tr th {\n",
       "        vertical-align: top;\n",
       "    }\n",
       "\n",
       "    .dataframe thead th {\n",
       "        text-align: right;\n",
       "    }\n",
       "</style>\n",
       "<table border=\"1\" class=\"dataframe\">\n",
       "  <thead>\n",
       "    <tr style=\"text-align: right;\">\n",
       "      <th></th>\n",
       "      <th>bathroom</th>\n",
       "      <th>price</th>\n",
       "    </tr>\n",
       "  </thead>\n",
       "  <tbody>\n",
       "    <tr>\n",
       "      <th>5</th>\n",
       "      <td>6</td>\n",
       "      <td>470681.113636</td>\n",
       "    </tr>\n",
       "    <tr>\n",
       "      <th>6</th>\n",
       "      <td>7</td>\n",
       "      <td>437737.500000</td>\n",
       "    </tr>\n",
       "    <tr>\n",
       "      <th>4</th>\n",
       "      <td>5</td>\n",
       "      <td>370421.302083</td>\n",
       "    </tr>\n",
       "    <tr>\n",
       "      <th>3</th>\n",
       "      <td>4</td>\n",
       "      <td>338588.473829</td>\n",
       "    </tr>\n",
       "    <tr>\n",
       "      <th>2</th>\n",
       "      <td>3</td>\n",
       "      <td>247461.834685</td>\n",
       "    </tr>\n",
       "    <tr>\n",
       "      <th>1</th>\n",
       "      <td>2</td>\n",
       "      <td>145321.895382</td>\n",
       "    </tr>\n",
       "    <tr>\n",
       "      <th>0</th>\n",
       "      <td>1</td>\n",
       "      <td>89395.445833</td>\n",
       "    </tr>\n",
       "  </tbody>\n",
       "</table>\n",
       "</div>"
      ],
      "text/plain": [
       "   bathroom          price\n",
       "5         6  470681.113636\n",
       "6         7  437737.500000\n",
       "4         5  370421.302083\n",
       "3         4  338588.473829\n",
       "2         3  247461.834685\n",
       "1         2  145321.895382\n",
       "0         1   89395.445833"
      ]
     },
     "execution_count": 14,
     "metadata": {},
     "output_type": "execute_result"
    }
   ],
   "source": [
    "price_by_bathrooms= houses.groupby('bathroom', as_index=False)['price'].mean().sort_values('price',ascending=False)\n",
    "price_by_bathrooms"
   ]
  },
  {
   "cell_type": "code",
   "execution_count": 15,
   "metadata": {},
   "outputs": [
    {
     "data": {
      "image/png": "[encoded data removed]",
      "text/plain": [
       "<Figure size 1200x480 with 1 Axes>"
      ]
     },
     "metadata": {
      "needs_background": "light"
     },
     "output_type": "display_data"
    }
   ],
   "source": [
    "plt.figure(figsize=(10, 4), dpi=120)\n",
    "sns.barplot(x='bathroom', y='price', data=price_by_bathrooms, estimator= np.mean )\n",
    "plt.title('Average sale price of houses by bathrooms',\n",
    "fontsize=18, color='black')\n",
    "plt.show()"
   ]
  },
  {
   "cell_type": "markdown",
   "metadata": {},
   "source": [
    "In the case of bedrooms we can notice that the number of bedrooms in a house have a strong impact in the price of the house, while on the other hand in the case of bathrooms we can notice that the number of baths between 1 and 5 bath per house have a strong impact in the price, but in houses with 6 and 7 baths we can see a small difference since houses with 6 baths are more expensive than houses with 7"
   ]
  },
  {
   "cell_type": "markdown",
   "metadata": {},
   "source": [
    "**Compare if the size of the house influence in the price of the house**"
   ]
  },
  {
   "cell_type": "code",
   "execution_count": 16,
   "metadata": {},
   "outputs": [
    {
     "data": {
      "text/html": [
       "<div>\n",
       "<style scoped>\n",
       "    .dataframe tbody tr th:only-of-type {\n",
       "        vertical-align: middle;\n",
       "    }\n",
       "\n",
       "    .dataframe tbody tr th {\n",
       "        vertical-align: top;\n",
       "    }\n",
       "\n",
       "    .dataframe thead th {\n",
       "        text-align: right;\n",
       "    }\n",
       "</style>\n",
       "<table border=\"1\" class=\"dataframe\">\n",
       "  <thead>\n",
       "    <tr style=\"text-align: right;\">\n",
       "      <th></th>\n",
       "      <th>houseArea</th>\n",
       "      <th>price</th>\n",
       "    </tr>\n",
       "  </thead>\n",
       "  <tbody>\n",
       "    <tr>\n",
       "      <th>505</th>\n",
       "      <td>754</td>\n",
       "      <td>711000.000000</td>\n",
       "    </tr>\n",
       "    <tr>\n",
       "      <th>432</th>\n",
       "      <td>518</td>\n",
       "      <td>680000.000000</td>\n",
       "    </tr>\n",
       "    <tr>\n",
       "      <th>446</th>\n",
       "      <td>542</td>\n",
       "      <td>680000.000000</td>\n",
       "    </tr>\n",
       "    <tr>\n",
       "      <th>457</th>\n",
       "      <td>565</td>\n",
       "      <td>680000.000000</td>\n",
       "    </tr>\n",
       "    <tr>\n",
       "      <th>502</th>\n",
       "      <td>730</td>\n",
       "      <td>680000.000000</td>\n",
       "    </tr>\n",
       "    <tr>\n",
       "      <th>503</th>\n",
       "      <td>737</td>\n",
       "      <td>670000.000000</td>\n",
       "    </tr>\n",
       "    <tr>\n",
       "      <th>422</th>\n",
       "      <td>506</td>\n",
       "      <td>650000.000000</td>\n",
       "    </tr>\n",
       "    <tr>\n",
       "      <th>431</th>\n",
       "      <td>517</td>\n",
       "      <td>650000.000000</td>\n",
       "    </tr>\n",
       "    <tr>\n",
       "      <th>420</th>\n",
       "      <td>504</td>\n",
       "      <td>650000.000000</td>\n",
       "    </tr>\n",
       "    <tr>\n",
       "      <th>470</th>\n",
       "      <td>604</td>\n",
       "      <td>650000.000000</td>\n",
       "    </tr>\n",
       "    <tr>\n",
       "      <th>482</th>\n",
       "      <td>629</td>\n",
       "      <td>649000.000000</td>\n",
       "    </tr>\n",
       "    <tr>\n",
       "      <th>467</th>\n",
       "      <td>595</td>\n",
       "      <td>645000.000000</td>\n",
       "    </tr>\n",
       "    <tr>\n",
       "      <th>508</th>\n",
       "      <td>786</td>\n",
       "      <td>640000.000000</td>\n",
       "    </tr>\n",
       "    <tr>\n",
       "      <th>370</th>\n",
       "      <td>433</td>\n",
       "      <td>640000.000000</td>\n",
       "    </tr>\n",
       "    <tr>\n",
       "      <th>487</th>\n",
       "      <td>650</td>\n",
       "      <td>639980.000000</td>\n",
       "    </tr>\n",
       "    <tr>\n",
       "      <th>395</th>\n",
       "      <td>466</td>\n",
       "      <td>639000.000000</td>\n",
       "    </tr>\n",
       "    <tr>\n",
       "      <th>465</th>\n",
       "      <td>590</td>\n",
       "      <td>625000.000000</td>\n",
       "    </tr>\n",
       "    <tr>\n",
       "      <th>449</th>\n",
       "      <td>545</td>\n",
       "      <td>620000.000000</td>\n",
       "    </tr>\n",
       "    <tr>\n",
       "      <th>462</th>\n",
       "      <td>580</td>\n",
       "      <td>611833.333333</td>\n",
       "    </tr>\n",
       "    <tr>\n",
       "      <th>459</th>\n",
       "      <td>570</td>\n",
       "      <td>611625.000000</td>\n",
       "    </tr>\n",
       "  </tbody>\n",
       "</table>\n",
       "</div>"
      ],
      "text/plain": [
       "     houseArea          price\n",
       "505        754  711000.000000\n",
       "432        518  680000.000000\n",
       "446        542  680000.000000\n",
       "457        565  680000.000000\n",
       "502        730  680000.000000\n",
       "503        737  670000.000000\n",
       "422        506  650000.000000\n",
       "431        517  650000.000000\n",
       "420        504  650000.000000\n",
       "470        604  650000.000000\n",
       "482        629  649000.000000\n",
       "467        595  645000.000000\n",
       "508        786  640000.000000\n",
       "370        433  640000.000000\n",
       "487        650  639980.000000\n",
       "395        466  639000.000000\n",
       "465        590  625000.000000\n",
       "449        545  620000.000000\n",
       "462        580  611833.333333\n",
       "459        570  611625.000000"
      ]
     },
     "execution_count": 16,
     "metadata": {},
     "output_type": "execute_result"
    }
   ],
   "source": [
    "price_by_housesize= houses.groupby('houseArea', as_index=False)['price'].mean().sort_values('price',ascending=False)\n",
    "price_by_housesize.head(20)"
   ]
  },
  {
   "cell_type": "code",
   "execution_count": 17,
   "metadata": {},
   "outputs": [
    {
     "data": {
      "image/png": "[encoded data removed]",
      "text/plain": [
       "<Figure size 1200x480 with 1 Axes>"
      ]
     },
     "metadata": {
      "needs_background": "light"
     },
     "output_type": "display_data"
    }
   ],
   "source": [
    "plt.figure(figsize=(10, 4), dpi=120)\n",
    "sns.barplot(x='houseArea', y='price', data=price_by_housesize.head(20), estimator= np.mean )\n",
    "plt.title('Average sale price of houses by housesize (Top 20)',\n",
    "fontsize=16, color='black')\n",
    "plt.show()"
   ]
  },
  {
   "cell_type": "markdown",
   "metadata": {},
   "source": [
    "**Now let's see if the lot area has impact in the price of houses**"
   ]
  },
  {
   "cell_type": "code",
   "execution_count": 18,
   "metadata": {},
   "outputs": [
    {
     "data": {
      "text/html": [
       "<div>\n",
       "<style scoped>\n",
       "    .dataframe tbody tr th:only-of-type {\n",
       "        vertical-align: middle;\n",
       "    }\n",
       "\n",
       "    .dataframe tbody tr th {\n",
       "        vertical-align: top;\n",
       "    }\n",
       "\n",
       "    .dataframe thead th {\n",
       "        text-align: right;\n",
       "    }\n",
       "</style>\n",
       "<table border=\"1\" class=\"dataframe\">\n",
       "  <thead>\n",
       "    <tr style=\"text-align: right;\">\n",
       "      <th></th>\n",
       "      <th>lotArea</th>\n",
       "      <th>price</th>\n",
       "    </tr>\n",
       "    <tr>\n",
       "      <th>location</th>\n",
       "      <th></th>\n",
       "      <th></th>\n",
       "    </tr>\n",
       "  </thead>\n",
       "  <tbody>\n",
       "    <tr>\n",
       "      <th>Miravalle</th>\n",
       "      <td>540.87</td>\n",
       "      <td>468255.58</td>\n",
       "    </tr>\n",
       "    <tr>\n",
       "      <th>Puembo</th>\n",
       "      <td>479.22</td>\n",
       "      <td>376700.00</td>\n",
       "    </tr>\n",
       "    <tr>\n",
       "      <th>Quito Tenis</th>\n",
       "      <td>457.17</td>\n",
       "      <td>364826.83</td>\n",
       "    </tr>\n",
       "    <tr>\n",
       "      <th>Nayón - Tanda</th>\n",
       "      <td>486.61</td>\n",
       "      <td>362706.53</td>\n",
       "    </tr>\n",
       "    <tr>\n",
       "      <th>La Carolina</th>\n",
       "      <td>386.50</td>\n",
       "      <td>352414.17</td>\n",
       "    </tr>\n",
       "    <tr>\n",
       "      <th>Cumbayá</th>\n",
       "      <td>410.40</td>\n",
       "      <td>349702.48</td>\n",
       "    </tr>\n",
       "    <tr>\n",
       "      <th>Monteserrín</th>\n",
       "      <td>400.66</td>\n",
       "      <td>340630.92</td>\n",
       "    </tr>\n",
       "    <tr>\n",
       "      <th>Bellavista</th>\n",
       "      <td>433.56</td>\n",
       "      <td>330375.00</td>\n",
       "    </tr>\n",
       "    <tr>\n",
       "      <th>El Bosque</th>\n",
       "      <td>336.40</td>\n",
       "      <td>294856.48</td>\n",
       "    </tr>\n",
       "    <tr>\n",
       "      <th>Granda Centeno</th>\n",
       "      <td>404.79</td>\n",
       "      <td>280142.86</td>\n",
       "    </tr>\n",
       "    <tr>\n",
       "      <th>El Batán</th>\n",
       "      <td>343.03</td>\n",
       "      <td>279169.70</td>\n",
       "    </tr>\n",
       "    <tr>\n",
       "      <th>Lumbisí</th>\n",
       "      <td>336.42</td>\n",
       "      <td>269995.83</td>\n",
       "    </tr>\n",
       "    <tr>\n",
       "      <th>Tumbaco</th>\n",
       "      <td>331.37</td>\n",
       "      <td>255354.00</td>\n",
       "    </tr>\n",
       "    <tr>\n",
       "      <th>El Condado</th>\n",
       "      <td>360.03</td>\n",
       "      <td>240147.37</td>\n",
       "    </tr>\n",
       "    <tr>\n",
       "      <th>Centro Norte</th>\n",
       "      <td>329.09</td>\n",
       "      <td>237417.49</td>\n",
       "    </tr>\n",
       "    <tr>\n",
       "      <th>Centro de Quito</th>\n",
       "      <td>430.11</td>\n",
       "      <td>226052.58</td>\n",
       "    </tr>\n",
       "    <tr>\n",
       "      <th>Las Casas</th>\n",
       "      <td>336.09</td>\n",
       "      <td>223181.82</td>\n",
       "    </tr>\n",
       "    <tr>\n",
       "      <th>La Concepción</th>\n",
       "      <td>388.07</td>\n",
       "      <td>223071.43</td>\n",
       "    </tr>\n",
       "    <tr>\n",
       "      <th>San Gabriel</th>\n",
       "      <td>377.08</td>\n",
       "      <td>219750.00</td>\n",
       "    </tr>\n",
       "    <tr>\n",
       "      <th>El Pinar</th>\n",
       "      <td>311.15</td>\n",
       "      <td>198192.96</td>\n",
       "    </tr>\n",
       "  </tbody>\n",
       "</table>\n",
       "</div>"
      ],
      "text/plain": [
       "                 lotArea      price\n",
       "location                           \n",
       "Miravalle         540.87  468255.58\n",
       "Puembo            479.22  376700.00\n",
       "Quito Tenis       457.17  364826.83\n",
       "Nayón - Tanda     486.61  362706.53\n",
       "La Carolina       386.50  352414.17\n",
       "Cumbayá           410.40  349702.48\n",
       "Monteserrín       400.66  340630.92\n",
       "Bellavista        433.56  330375.00\n",
       "El Bosque         336.40  294856.48\n",
       "Granda Centeno    404.79  280142.86\n",
       "El Batán          343.03  279169.70\n",
       "Lumbisí           336.42  269995.83\n",
       "Tumbaco           331.37  255354.00\n",
       "El Condado        360.03  240147.37\n",
       "Centro Norte      329.09  237417.49\n",
       "Centro de Quito   430.11  226052.58\n",
       "Las Casas         336.09  223181.82\n",
       "La Concepción     388.07  223071.43\n",
       "San Gabriel       377.08  219750.00\n",
       "El Pinar          311.15  198192.96"
      ]
     },
     "execution_count": 18,
     "metadata": {},
     "output_type": "execute_result"
    }
   ],
   "source": [
    "price_per_lotArea = houses.pivot_table(['lotArea','price'], 'location', aggfunc=np.mean, sort=True)\n",
    "price_per_lotArea['lotArea'] = round( price_per_lotArea.lotArea, 2 )\n",
    "price_per_lotArea['price'] = round( price_per_lotArea.price, 2 )\n",
    "price_per_lotArea.sort_values('price', ascending=False).head(20)"
   ]
  },
  {
   "cell_type": "code",
   "execution_count": 19,
   "metadata": {},
   "outputs": [
    {
     "data": {
      "image/png": "[encoded data removed]",
      "text/plain": [
       "<Figure size 1200x480 with 1 Axes>"
      ]
     },
     "metadata": {
      "needs_background": "light"
     },
     "output_type": "display_data"
    }
   ],
   "source": [
    "plt.figure(figsize=(10, 4), dpi=120)\n",
    "sns.barplot(x='lotArea', y='price', data=price_per_lotArea, estimator= np.mean )\n",
    "plt.title('Average sale price of houses by lot area',\n",
    "            fontsize=14, color='black')\n",
    "plt.xticks(rotation=90)\n",
    "plt.show()"
   ]
  },
  {
   "cell_type": "markdown",
   "metadata": {},
   "source": [
    "We can notice that the house area and lot area don't have a strong impact in the price of a house since depend on the location too."
   ]
  },
  {
   "cell_type": "markdown",
   "metadata": {},
   "source": [
    "_____________________________________________"
   ]
  },
  {
   "cell_type": "code",
   "execution_count": null,
   "metadata": {},
   "outputs": [],
   "source": [
    "sns.scatterplot()"
   ]
  },
  {
   "cell_type": "markdown",
   "metadata": {},
   "source": [
    "<h2><strong>Machine Learning Model</strong></h2>"
   ]
  },
  {
   "cell_type": "markdown",
   "metadata": {},
   "source": [
    "<h3>Feature and Label Selection</h3>"
   ]
  },
  {
   "cell_type": "code",
   "execution_count": 20,
   "metadata": {},
   "outputs": [
    {
     "data": {
      "text/html": [
       "<div>\n",
       "<style scoped>\n",
       "    .dataframe tbody tr th:only-of-type {\n",
       "        vertical-align: middle;\n",
       "    }\n",
       "\n",
       "    .dataframe tbody tr th {\n",
       "        vertical-align: top;\n",
       "    }\n",
       "\n",
       "    .dataframe thead th {\n",
       "        text-align: right;\n",
       "    }\n",
       "</style>\n",
       "<table border=\"1\" class=\"dataframe\">\n",
       "  <thead>\n",
       "    <tr style=\"text-align: right;\">\n",
       "      <th></th>\n",
       "      <th>location</th>\n",
       "      <th>lotArea</th>\n",
       "      <th>houseArea</th>\n",
       "      <th>bedroom</th>\n",
       "      <th>bathroom</th>\n",
       "      <th>parkingSpaces</th>\n",
       "    </tr>\n",
       "  </thead>\n",
       "  <tbody>\n",
       "    <tr>\n",
       "      <th>0</th>\n",
       "      <td>La Armenia</td>\n",
       "      <td>214</td>\n",
       "      <td>214</td>\n",
       "      <td>3</td>\n",
       "      <td>2</td>\n",
       "      <td>2</td>\n",
       "    </tr>\n",
       "    <tr>\n",
       "      <th>1</th>\n",
       "      <td>Tumbaco</td>\n",
       "      <td>148</td>\n",
       "      <td>104</td>\n",
       "      <td>3</td>\n",
       "      <td>2</td>\n",
       "      <td>1</td>\n",
       "    </tr>\n",
       "    <tr>\n",
       "      <th>2</th>\n",
       "      <td>Tumbaco</td>\n",
       "      <td>600</td>\n",
       "      <td>320</td>\n",
       "      <td>3</td>\n",
       "      <td>3</td>\n",
       "      <td>2</td>\n",
       "    </tr>\n",
       "    <tr>\n",
       "      <th>3</th>\n",
       "      <td>Ponceano</td>\n",
       "      <td>147</td>\n",
       "      <td>147</td>\n",
       "      <td>3</td>\n",
       "      <td>2</td>\n",
       "      <td>2</td>\n",
       "    </tr>\n",
       "    <tr>\n",
       "      <th>4</th>\n",
       "      <td>Carcelén</td>\n",
       "      <td>183</td>\n",
       "      <td>163</td>\n",
       "      <td>3</td>\n",
       "      <td>2</td>\n",
       "      <td>2</td>\n",
       "    </tr>\n",
       "  </tbody>\n",
       "</table>\n",
       "</div>"
      ],
      "text/plain": [
       "     location  lotArea  houseArea  bedroom  bathroom  parkingSpaces\n",
       "0  La Armenia      214        214        3         2              2\n",
       "1     Tumbaco      148        104        3         2              1\n",
       "2     Tumbaco      600        320        3         3              2\n",
       "3    Ponceano      147        147        3         2              2\n",
       "4    Carcelén      183        163        3         2              2"
      ]
     },
     "execution_count": 20,
     "metadata": {},
     "output_type": "execute_result"
    }
   ],
   "source": [
    "X = houses .drop('price', axis=1)\n",
    "X[0:5]"
   ]
  },
  {
   "cell_type": "code",
   "execution_count": 21,
   "metadata": {},
   "outputs": [
    {
     "data": {
      "text/plain": [
       "0    125000\n",
       "1     97000\n",
       "2    450000\n",
       "3    100000\n",
       "4    128000\n",
       "Name: price, dtype: int64"
      ]
     },
     "execution_count": 21,
     "metadata": {},
     "output_type": "execute_result"
    }
   ],
   "source": [
    "y = houses.price\n",
    "y[0:5]"
   ]
  },
  {
   "cell_type": "markdown",
   "metadata": {},
   "source": [
    "<h3>Functions to get metric models</h3>"
   ]
  },
  {
   "cell_type": "code",
   "execution_count": 22,
   "metadata": {},
   "outputs": [],
   "source": [
    "from sklearn.metrics import mean_absolute_error, mean_squared_error, r2_score\n",
    "performance_dict = {}\n",
    "def get_metrics(y_true, y_hat, name_model):\n",
    "    \n",
    "    MAE = mean_absolute_error(y_true, y_hat)\n",
    "    RMSE = np.sqrt( mean_squared_error(y_true, y_hat) )\n",
    "    R2 = r2_score( y_true, y_hat )\n",
    "    Adjusted_R2 = 1 - (1 - R2) * ( len(y) - 1 ) / ( len(y) - X.shape[1] - 1 )\n",
    "    performance_dict[f'{name_model}_mae'] = round(MAE, 2)\n",
    "    performance_dict[f'{name_model}_rmse'] = round(RMSE, 2)\n",
    "    performance_dict[f'{name_model}_r2'] = round(R2, 2)\n",
    "    performance_dict[f'{name_model}_adjusted_r2'] = round(Adjusted_R2, 2)\n",
    "\n",
    "    return performance_dict\n"
   ]
  },
  {
   "cell_type": "markdown",
   "metadata": {},
   "source": [
    "<h3>Train Test Split</h3>"
   ]
  },
  {
   "cell_type": "code",
   "execution_count": 23,
   "metadata": {},
   "outputs": [],
   "source": [
    "from sklearn.model_selection import train_test_split\n",
    "\n",
    "X_train, X_test, y_train, y_test = train_test_split(X, y, test_size=0.2, random_state=44)"
   ]
  },
  {
   "cell_type": "markdown",
   "metadata": {},
   "source": [
    "<h3>Pipeline Creation and Modeling</h3>\n",
    "\n",
    "*Column Transformer, Scaling data and ML modeling*"
   ]
  },
  {
   "cell_type": "code",
   "execution_count": 24,
   "metadata": {},
   "outputs": [],
   "source": [
    "from sklearn.compose import make_column_transformer\n",
    "from sklearn.preprocessing import OneHotEncoder"
   ]
  },
  {
   "cell_type": "code",
   "execution_count": 25,
   "metadata": {},
   "outputs": [],
   "source": [
    "column_transformer = make_column_transformer(\n",
    "    (OneHotEncoder(sparse=False, drop='first'), ['location']),\n",
    "    remainder='passthrough'\n",
    ")"
   ]
  },
  {
   "cell_type": "markdown",
   "metadata": {},
   "source": [
    "<h3>Encoding Data</h3>\n",
    "\n",
    "*Encoding categorical data of the dataset*\n",
    "\n",
    "- Creation of a column transformer\n",
    "- Encoding with OneHotEncoder"
   ]
  },
  {
   "cell_type": "code",
   "execution_count": 26,
   "metadata": {},
   "outputs": [],
   "source": [
    "from sklearn.pipeline import make_pipeline\n",
    "from sklearn.preprocessing import StandardScaler"
   ]
  },
  {
   "cell_type": "markdown",
   "metadata": {},
   "source": [
    "<h4>Linear Regression</h4>"
   ]
  },
  {
   "cell_type": "code",
   "execution_count": 27,
   "metadata": {},
   "outputs": [],
   "source": [
    "from sklearn.linear_model import LinearRegression\n",
    "\n",
    "scaler = StandardScaler()\n",
    "ln_reg = LinearRegression()"
   ]
  },
  {
   "cell_type": "code",
   "execution_count": 28,
   "metadata": {},
   "outputs": [
    {
     "data": {
      "text/plain": [
       "{'linear_regression_mae': 43891.38,\n",
       " 'linear_regression_rmse': 63787.66,\n",
       " 'linear_regression_r2': 0.8,\n",
       " 'linear_regression_adjusted_r2': 0.8}"
      ]
     },
     "execution_count": 28,
     "metadata": {},
     "output_type": "execute_result"
    }
   ],
   "source": [
    "#pipeline\n",
    "pipe = make_pipeline(column_transformer, scaler, ln_reg)\n",
    "pipe.fit(X_train, y_train)\n",
    "ln_y_hat = pipe.predict(X_test)\n",
    "performance = get_metrics(y_test, ln_y_hat, 'linear_regression')\n",
    "performance"
   ]
  },
  {
   "cell_type": "markdown",
   "metadata": {},
   "source": [
    "<h4>Ridge Regression</h4>"
   ]
  },
  {
   "cell_type": "code",
   "execution_count": 29,
   "metadata": {},
   "outputs": [
    {
     "data": {
      "text/plain": [
       "{'linear_regression_mae': 43891.38,\n",
       " 'linear_regression_rmse': 63787.66,\n",
       " 'linear_regression_r2': 0.8,\n",
       " 'linear_regression_adjusted_r2': 0.8,\n",
       " 'ridge_regression_mae': 43887.51,\n",
       " 'ridge_regression_rmse': 63786.58,\n",
       " 'ridge_regression_r2': 0.8,\n",
       " 'ridge_regression_adjusted_r2': 0.8}"
      ]
     },
     "execution_count": 29,
     "metadata": {},
     "output_type": "execute_result"
    }
   ],
   "source": [
    "from sklearn.linear_model import RidgeCV\n",
    "\n",
    "ridge = RidgeCV(alphas=[0.001, 0.01, 0.1, 1, 10, 100], cv=5 )\n",
    "pipe = make_pipeline( column_transformer, scaler, ridge )\n",
    "pipe.fit(X_train, y_train)\n",
    "ridge_y_hat = pipe.predict(X_test)\n",
    "performance = get_metrics(y_test, ridge_y_hat, 'ridge_regression')\n",
    "performance\n"
   ]
  },
  {
   "cell_type": "markdown",
   "metadata": {},
   "source": [
    "<h4>Lasso Regression</h4>"
   ]
  },
  {
   "cell_type": "code",
   "execution_count": 30,
   "metadata": {},
   "outputs": [
    {
     "data": {
      "text/plain": [
       "{'linear_regression_mae': 43891.38,\n",
       " 'linear_regression_rmse': 63787.66,\n",
       " 'linear_regression_r2': 0.8,\n",
       " 'linear_regression_adjusted_r2': 0.8,\n",
       " 'ridge_regression_mae': 43887.51,\n",
       " 'ridge_regression_rmse': 63786.58,\n",
       " 'ridge_regression_r2': 0.8,\n",
       " 'ridge_regression_adjusted_r2': 0.8,\n",
       " 'lasso_regression_mae': 43545.79,\n",
       " 'lasso_regression_rmse': 63692.7,\n",
       " 'lasso_regression_r2': 0.8,\n",
       " 'lasso_regression_adjusted_r2': 0.8}"
      ]
     },
     "execution_count": 30,
     "metadata": {},
     "output_type": "execute_result"
    }
   ],
   "source": [
    "from sklearn.linear_model import LassoCV\n",
    "\n",
    "lasso = LassoCV(cv=5)\n",
    "pipe = make_pipeline( column_transformer, scaler, lasso )\n",
    "pipe.fit(X_train, y_train)\n",
    "lasso_y_hat = pipe.predict(X_test)\n",
    "performance = get_metrics(y_test, lasso_y_hat, 'lasso_regression')\n",
    "performance"
   ]
  },
  {
   "cell_type": "markdown",
   "metadata": {},
   "source": [
    "<h4>Random Forest</h4>"
   ]
  },
  {
   "cell_type": "code",
   "execution_count": 31,
   "metadata": {},
   "outputs": [
    {
     "data": {
      "text/plain": [
       "{'linear_regression_mae': 43891.38,\n",
       " 'linear_regression_rmse': 63787.66,\n",
       " 'linear_regression_r2': 0.8,\n",
       " 'linear_regression_adjusted_r2': 0.8,\n",
       " 'ridge_regression_mae': 43887.51,\n",
       " 'ridge_regression_rmse': 63786.58,\n",
       " 'ridge_regression_r2': 0.8,\n",
       " 'ridge_regression_adjusted_r2': 0.8,\n",
       " 'lasso_regression_mae': 43545.79,\n",
       " 'lasso_regression_rmse': 63692.7,\n",
       " 'lasso_regression_r2': 0.8,\n",
       " 'lasso_regression_adjusted_r2': 0.8,\n",
       " 'random_forest_mae': 38845.07,\n",
       " 'random_forest_rmse': 61852.59,\n",
       " 'random_forest_r2': 0.81,\n",
       " 'random_forest_adjusted_r2': 0.81}"
      ]
     },
     "execution_count": 31,
     "metadata": {},
     "output_type": "execute_result"
    }
   ],
   "source": [
    "from sklearn.ensemble import RandomForestRegressor\n",
    "\n",
    "rf = RandomForestRegressor(n_estimators=100, max_depth=15, criterion='squared_error')\n",
    "pipe = make_pipeline( column_transformer, scaler, rf )\n",
    "pipe.fit(X_train, y_train)\n",
    "rf_y_hat = pipe.predict(X_test)\n",
    "performance = get_metrics(y_test, rf_y_hat, 'random_forest')\n",
    "performance"
   ]
  },
  {
   "cell_type": "markdown",
   "metadata": {},
   "source": [
    "<h4>Gradient Boosting</h4>"
   ]
  },
  {
   "cell_type": "code",
   "execution_count": 32,
   "metadata": {},
   "outputs": [
    {
     "data": {
      "text/plain": [
       "{'linear_regression_mae': 43891.38,\n",
       " 'linear_regression_rmse': 63787.66,\n",
       " 'linear_regression_r2': 0.8,\n",
       " 'linear_regression_adjusted_r2': 0.8,\n",
       " 'ridge_regression_mae': 43887.51,\n",
       " 'ridge_regression_rmse': 63786.58,\n",
       " 'ridge_regression_r2': 0.8,\n",
       " 'ridge_regression_adjusted_r2': 0.8,\n",
       " 'lasso_regression_mae': 43545.79,\n",
       " 'lasso_regression_rmse': 63692.7,\n",
       " 'lasso_regression_r2': 0.8,\n",
       " 'lasso_regression_adjusted_r2': 0.8,\n",
       " 'random_forest_mae': 38845.07,\n",
       " 'random_forest_rmse': 61852.59,\n",
       " 'random_forest_r2': 0.81,\n",
       " 'random_forest_adjusted_r2': 0.81,\n",
       " 'gradient_boosting_mae': 39742.68,\n",
       " 'gradient_boosting_rmse': 60792.62,\n",
       " 'gradient_boosting_r2': 0.82,\n",
       " 'gradient_boosting_adjusted_r2': 0.82}"
      ]
     },
     "execution_count": 32,
     "metadata": {},
     "output_type": "execute_result"
    }
   ],
   "source": [
    "from sklearn.ensemble import GradientBoostingRegressor\n",
    "\n",
    "gbr = GradientBoostingRegressor(n_estimators=500, max_depth=5, min_samples_split=5,\n",
    "     loss='squared_error', learning_rate=0.01)\n",
    "pipe = make_pipeline( column_transformer, scaler, gbr )\n",
    "pipe.fit(X_train, y_train)\n",
    "gbr_y_hat = pipe.predict(X_test)\n",
    "performance = get_metrics(y_test, gbr_y_hat, 'gradient_boosting')\n",
    "performance"
   ]
  },
  {
   "cell_type": "markdown",
   "metadata": {},
   "source": [
    "<h4><strong>Final Report</strong></h4>"
   ]
  },
  {
   "cell_type": "code",
   "execution_count": 33,
   "metadata": {},
   "outputs": [
    {
     "data": {
      "text/html": [
       "<div>\n",
       "<style scoped>\n",
       "    .dataframe tbody tr th:only-of-type {\n",
       "        vertical-align: middle;\n",
       "    }\n",
       "\n",
       "    .dataframe tbody tr th {\n",
       "        vertical-align: top;\n",
       "    }\n",
       "\n",
       "    .dataframe thead th {\n",
       "        text-align: right;\n",
       "    }\n",
       "</style>\n",
       "<table border=\"1\" class=\"dataframe\">\n",
       "  <thead>\n",
       "    <tr style=\"text-align: right;\">\n",
       "      <th></th>\n",
       "      <th>Algorithm</th>\n",
       "      <th>MAE</th>\n",
       "      <th>RMSE</th>\n",
       "      <th>Adjusted R2</th>\n",
       "    </tr>\n",
       "  </thead>\n",
       "  <tbody>\n",
       "    <tr>\n",
       "      <th>0</th>\n",
       "      <td>Linear REgression</td>\n",
       "      <td>43891.38</td>\n",
       "      <td>63787.66</td>\n",
       "      <td>0.80</td>\n",
       "    </tr>\n",
       "    <tr>\n",
       "      <th>1</th>\n",
       "      <td>Ridge</td>\n",
       "      <td>43887.51</td>\n",
       "      <td>63786.58</td>\n",
       "      <td>0.80</td>\n",
       "    </tr>\n",
       "    <tr>\n",
       "      <th>2</th>\n",
       "      <td>Lasso</td>\n",
       "      <td>43545.79</td>\n",
       "      <td>63692.70</td>\n",
       "      <td>0.80</td>\n",
       "    </tr>\n",
       "    <tr>\n",
       "      <th>3</th>\n",
       "      <td>Random Forest</td>\n",
       "      <td>38845.07</td>\n",
       "      <td>61852.59</td>\n",
       "      <td>0.81</td>\n",
       "    </tr>\n",
       "    <tr>\n",
       "      <th>4</th>\n",
       "      <td>Gradient Boosting</td>\n",
       "      <td>39742.68</td>\n",
       "      <td>60792.62</td>\n",
       "      <td>0.82</td>\n",
       "    </tr>\n",
       "  </tbody>\n",
       "</table>\n",
       "</div>"
      ],
      "text/plain": [
       "           Algorithm       MAE      RMSE  Adjusted R2\n",
       "0  Linear REgression  43891.38  63787.66         0.80\n",
       "1              Ridge  43887.51  63786.58         0.80\n",
       "2              Lasso  43545.79  63692.70         0.80\n",
       "3      Random Forest  38845.07  61852.59         0.81\n",
       "4  Gradient Boosting  39742.68  60792.62         0.82"
      ]
     },
     "execution_count": 33,
     "metadata": {},
     "output_type": "execute_result"
    }
   ],
   "source": [
    "MAE = [ performance['linear_regression_mae'], performance['ridge_regression_mae'], performance['lasso_regression_mae'],\n",
    "performance['random_forest_mae'], performance['gradient_boosting_mae'] ]\n",
    "\n",
    "RMSE = [ performance['linear_regression_rmse'], performance['ridge_regression_rmse'], performance['lasso_regression_rmse'],\n",
    "performance['random_forest_rmse'], performance['gradient_boosting_rmse'] ]\n",
    "\n",
    "Adjusted_R2 = [ performance['linear_regression_adjusted_r2'], performance['ridge_regression_adjusted_r2'],\n",
    "performance['lasso_regression_adjusted_r2'], performance['random_forest_adjusted_r2'], performance['gradient_boosting_adjusted_r2'] ]\n",
    "\n",
    "algorithm = ['Linear REgression', 'Ridge', 'Lasso', 'Random Forest', 'Gradient Boosting']\n",
    "\n",
    "report_data = {'Algorithm': algorithm, 'MAE': MAE, 'RMSE': RMSE, 'Adjusted R2': Adjusted_R2}\n",
    "report_df = pd.DataFrame(report_data)\n",
    "report_df"
   ]
  },
  {
   "cell_type": "markdown",
   "metadata": {},
   "source": [
    "<h4>Deploy Model</h4>"
   ]
  },
  {
   "cell_type": "code",
   "execution_count": 34,
   "metadata": {},
   "outputs": [],
   "source": [
    "import pickle\n",
    "\n",
    "pickle.dump(pipe, open('finalModel.pkl', 'wb'))"
   ]
  },
  {
   "cell_type": "markdown",
   "metadata": {},
   "source": [
    "<h4>Validate Model</h4>"
   ]
  },
  {
   "cell_type": "code",
   "execution_count": 46,
   "metadata": {},
   "outputs": [],
   "source": [
    "input_df = pd.DataFrame([['Carapungo',890,340,4,3,2]], columns=['location',\n",
    "'lotArea', 'houseArea', 'bedroom', 'bathroom', 'parkingSpaces'])"
   ]
  },
  {
   "cell_type": "code",
   "execution_count": 36,
   "metadata": {},
   "outputs": [],
   "source": [
    "model = pickle.load(open('./finalModel.pkl', ))"
   ]
  },
  {
   "cell_type": "code",
   "execution_count": 48,
   "metadata": {},
   "outputs": [
    {
     "data": {
      "text/plain": [
       "327555.6296383615"
      ]
     },
     "execution_count": 48,
     "metadata": {},
     "output_type": "execute_result"
    }
   ],
   "source": [
    "prediction = pipe.predict(input_df)[0]\n",
    "prediction"
   ]
  },
  {
   "cell_type": "code",
   "execution_count": 43,
   "metadata": {},
   "outputs": [
    {
     "data": {
      "text/html": [
       "<div>\n",
       "<style scoped>\n",
       "    .dataframe tbody tr th:only-of-type {\n",
       "        vertical-align: middle;\n",
       "    }\n",
       "\n",
       "    .dataframe tbody tr th {\n",
       "        vertical-align: top;\n",
       "    }\n",
       "\n",
       "    .dataframe thead th {\n",
       "        text-align: right;\n",
       "    }\n",
       "</style>\n",
       "<table border=\"1\" class=\"dataframe\">\n",
       "  <thead>\n",
       "    <tr style=\"text-align: right;\">\n",
       "      <th></th>\n",
       "      <th>location</th>\n",
       "      <th>lotArea</th>\n",
       "      <th>houseArea</th>\n",
       "      <th>bedroom</th>\n",
       "      <th>bathroom</th>\n",
       "      <th>parkingSpaces</th>\n",
       "    </tr>\n",
       "  </thead>\n",
       "  <tbody>\n",
       "    <tr>\n",
       "      <th>4617</th>\n",
       "      <td>Los Chillos</td>\n",
       "      <td>352</td>\n",
       "      <td>258</td>\n",
       "      <td>3</td>\n",
       "      <td>3</td>\n",
       "      <td>2</td>\n",
       "    </tr>\n",
       "    <tr>\n",
       "      <th>3854</th>\n",
       "      <td>San Rafael</td>\n",
       "      <td>358</td>\n",
       "      <td>358</td>\n",
       "      <td>5</td>\n",
       "      <td>4</td>\n",
       "      <td>5</td>\n",
       "    </tr>\n",
       "    <tr>\n",
       "      <th>3709</th>\n",
       "      <td>Sur de Quito</td>\n",
       "      <td>271</td>\n",
       "      <td>271</td>\n",
       "      <td>4</td>\n",
       "      <td>3</td>\n",
       "      <td>1</td>\n",
       "    </tr>\n",
       "    <tr>\n",
       "      <th>995</th>\n",
       "      <td>Cumbayá</td>\n",
       "      <td>350</td>\n",
       "      <td>350</td>\n",
       "      <td>3</td>\n",
       "      <td>3</td>\n",
       "      <td>3</td>\n",
       "    </tr>\n",
       "    <tr>\n",
       "      <th>179</th>\n",
       "      <td>El Inca</td>\n",
       "      <td>125</td>\n",
       "      <td>125</td>\n",
       "      <td>3</td>\n",
       "      <td>2</td>\n",
       "      <td>1</td>\n",
       "    </tr>\n",
       "    <tr>\n",
       "      <th>...</th>\n",
       "      <td>...</td>\n",
       "      <td>...</td>\n",
       "      <td>...</td>\n",
       "      <td>...</td>\n",
       "      <td>...</td>\n",
       "      <td>...</td>\n",
       "    </tr>\n",
       "    <tr>\n",
       "      <th>4263</th>\n",
       "      <td>La Armenia</td>\n",
       "      <td>858</td>\n",
       "      <td>160</td>\n",
       "      <td>3</td>\n",
       "      <td>2</td>\n",
       "      <td>4</td>\n",
       "    </tr>\n",
       "    <tr>\n",
       "      <th>1155</th>\n",
       "      <td>Cumbayá</td>\n",
       "      <td>255</td>\n",
       "      <td>170</td>\n",
       "      <td>2</td>\n",
       "      <td>2</td>\n",
       "      <td>2</td>\n",
       "    </tr>\n",
       "    <tr>\n",
       "      <th>1808</th>\n",
       "      <td>Los Chillos</td>\n",
       "      <td>235</td>\n",
       "      <td>235</td>\n",
       "      <td>4</td>\n",
       "      <td>2</td>\n",
       "      <td>1</td>\n",
       "    </tr>\n",
       "    <tr>\n",
       "      <th>1690</th>\n",
       "      <td>Cumbayá</td>\n",
       "      <td>588</td>\n",
       "      <td>310</td>\n",
       "      <td>3</td>\n",
       "      <td>3</td>\n",
       "      <td>2</td>\n",
       "    </tr>\n",
       "    <tr>\n",
       "      <th>2302</th>\n",
       "      <td>Conocoto</td>\n",
       "      <td>147</td>\n",
       "      <td>175</td>\n",
       "      <td>3</td>\n",
       "      <td>2</td>\n",
       "      <td>2</td>\n",
       "    </tr>\n",
       "  </tbody>\n",
       "</table>\n",
       "<p>987 rows × 6 columns</p>\n",
       "</div>"
      ],
      "text/plain": [
       "          location  lotArea  houseArea  bedroom  bathroom  parkingSpaces\n",
       "4617   Los Chillos      352        258        3         3              2\n",
       "3854    San Rafael      358        358        5         4              5\n",
       "3709  Sur de Quito      271        271        4         3              1\n",
       "995        Cumbayá      350        350        3         3              3\n",
       "179        El Inca      125        125        3         2              1\n",
       "...            ...      ...        ...      ...       ...            ...\n",
       "4263    La Armenia      858        160        3         2              4\n",
       "1155       Cumbayá      255        170        2         2              2\n",
       "1808   Los Chillos      235        235        4         2              1\n",
       "1690       Cumbayá      588        310        3         3              2\n",
       "2302      Conocoto      147        175        3         2              2\n",
       "\n",
       "[987 rows x 6 columns]"
      ]
     },
     "execution_count": 43,
     "metadata": {},
     "output_type": "execute_result"
    }
   ],
   "source": [
    "X_test"
   ]
  },
  {
   "cell_type": "code",
   "execution_count": null,
   "metadata": {},
   "outputs": [],
   "source": []
  }
 ],
 "metadata": {
  "kernelspec": {
   "display_name": "housing",
   "language": "python",
   "name": "housing"
  },
  "language_info": {
   "codemirror_mode": {
    "name": "ipython",
    "version": 3
   },
   "file_extension": ".py",
   "mimetype": "text/x-python",
   "name": "python",
   "nbconvert_exporter": "python",
   "pygments_lexer": "ipython3",
   "version": "3.8.10"
  },
  "vscode": {
   "interpreter": {
    "hash": "2d4309d943cde98b542e3be664a5b95f611fa8e59448e5fafeb0e77a8d9e502e"
   }
  }
 },
 "nbformat": 4,
 "nbformat_minor": 4
}
